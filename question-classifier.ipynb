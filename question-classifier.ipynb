{
 "cells": [
  {
   "cell_type": "markdown",
   "metadata": {},
   "source": [
    "# Classification of Questions\n",
    "\n",
    "## Introduction\n",
    "\n",
    "This notebook is dedicated to a challenging task in the realm of Deep Learning - the classification of questions into two categories: sincere and insincere. Our dataset comprises over 250,000 training questions, each labeled as either honest or dishonest, providing a rich ground for training and testing our models.\n",
    "\n",
    "### Objective\n",
    "\n",
    "The primary goal is to implement and train models specifically on this dataset, evaluating their performance in accurately categorizing the questions. This task not only tests the practical application of deep learning models but also emphasizes the importance of precise data preprocessing and model tuning.\n",
    "\n",
    "### Approach\n",
    "\n",
    "We will explore the dataset, implement various models, and train them to classify questions effectively. The use of pre-trained embeddings is allowed, although the models themselves should be built and trained from scratch. Special attention will be paid to the preprocessing of text data, ensuring that every decision is data-driven and well-justified.\n",
    "\n",
    "### Evaluation Metrics\n",
    "\n",
    "The model's performance will be evaluated using metrics such as accuracy, precision, recall, and F1 score, with a particular focus on the F1 score due to the dataset's imbalance.\n",
    "\n",
    "### Tools and Technologies\n",
    "\n",
    "- Programming Language: Python\n",
    "- Main Libraries: PyTorch, Pandas, NumPy, Matplotlib, scikit-learn\n",
    "\n",
    "This notebook aims to not only build a robust model for question classification but also to serve as a comprehensive guide through the process of model selection, training, and evaluation in a real-world deep learning application.\n",
    "\n",
    "---\n",
    "\n",
    "**Note**: This project is an academic exercise, part of the \"Taller de Deep Learning\" course. It is intended for educational purposes, focusing on applying deep learning techniques to a real-world problem. The dataset and the task are designed to provide hands-on experience in building and evaluating deep learning models, particularly in the field of Natural Language Processing (NLP).\n",
    "\n",
    "---\n"
   ]
  },
  {
   "cell_type": "markdown",
   "metadata": {},
   "source": [
    "## Environment Setup\n",
    "\n",
    "### Setting Up the Conda Environment\n",
    "\n",
    "To ensure consistency across different platforms and manage dependencies effectively, we will use a Conda environment. If you haven't already installed Conda, please follow the instructions from [Miniconda](https://docs.conda.io/en/latest/miniconda.html) or [Anaconda](https://www.anaconda.com/products/distribution).\n",
    "\n",
    "#### Steps to Setup:\n",
    "\n",
    "1. **Create the Conda Environment**: Navigate to the root of the project where the `environment.yml` file is located and run the following command in your terminal:   \n",
    "```bash\n",
    "conda env create -f environment.yml\n",
    "```\n",
    "> This command will create a new Conda environment with all the necessary packages as specified in `environment.yml`.\n",
    "\n",
    "2. **Activate the Environment**: Once the environment is created, activate it using:\n",
    "```bash\n",
    "conda activate question-classifier-nlp\n",
    "```"
   ]
  },
  {
   "cell_type": "markdown",
   "metadata": {},
   "source": [
    "### Importing Libraries"
   ]
  },
  {
   "cell_type": "code",
   "execution_count": 1,
   "metadata": {},
   "outputs": [
    {
     "name": "stderr",
     "output_type": "stream",
     "text": [
      "[nltk_data] Downloading package stopwords to /home/k/nltk_data...\n",
      "[nltk_data]   Package stopwords is already up-to-date!\n",
      "[nltk_data] Downloading package wordnet to /home/k/nltk_data...\n",
      "[nltk_data]   Package wordnet is already up-to-date!\n",
      "[nltk_data] Downloading package punkt to /home/k/nltk_data...\n",
      "[nltk_data]   Package punkt is already up-to-date!\n",
      "[nltk_data] Downloading package averaged_perceptron_tagger to\n",
      "[nltk_data]     /home/k/nltk_data...\n",
      "[nltk_data]   Package averaged_perceptron_tagger is already up-to-\n",
      "[nltk_data]       date!\n"
     ]
    }
   ],
   "source": [
    "import re\n",
    "import time\n",
    "from itertools import chain\n",
    "from collections import Counter\n",
    "\n",
    "import nltk\n",
    "import numpy as np\n",
    "from nltk.corpus import stopwords\n",
    "from nltk.tokenize import word_tokenize\n",
    "\n",
    "from sklearn.metrics import (\n",
    "    accuracy_score,\n",
    "    precision_score,\n",
    "    recall_score,\n",
    "    f1_score,\n",
    "    confusion_matrix,\n",
    ")\n",
    "\n",
    "nltk.download(\"stopwords\")\n",
    "nltk.download(\"wordnet\")\n",
    "nltk.download(\"punkt\")\n",
    "nltk.download(\"averaged_perceptron_tagger\")\n",
    "\n",
    "\n",
    "import torch\n",
    "import torch.nn as nn\n",
    "import torch.nn.functional as F\n",
    "from torch.utils.data import TensorDataset, DataLoader\n",
    "\n",
    "import matplotlib.pyplot as plt\n",
    "import pandas as pd\n",
    "from sklearn.model_selection import train_test_split\n",
    "\n",
    "import math"
   ]
  },
  {
   "cell_type": "markdown",
   "metadata": {},
   "source": [
    "### Checking the GPU"
   ]
  },
  {
   "cell_type": "code",
   "execution_count": 2,
   "metadata": {},
   "outputs": [
    {
     "name": "stdout",
     "output_type": "stream",
     "text": [
      "cuda:0\n"
     ]
    }
   ],
   "source": [
    "DEVICE = torch.device(\"cuda:0\" if torch.cuda.is_available() else \"cpu\")\n",
    "print(DEVICE)"
   ]
  },
  {
   "cell_type": "markdown",
   "metadata": {},
   "source": [
    "### Setting the Random Seed for Reproducibility"
   ]
  },
  {
   "cell_type": "code",
   "execution_count": 3,
   "metadata": {},
   "outputs": [],
   "source": [
    "SEED = 43\n",
    "np.random.seed(SEED)\n",
    "torch.manual_seed(SEED)\n",
    "torch.cuda.manual_seed(SEED)\n",
    "\n",
    "# set deterministic cudnn for reproducibility\n",
    "torch.backends.cudnn.deterministic = True"
   ]
  },
  {
   "cell_type": "markdown",
   "metadata": {},
   "source": [
    "## Load Datasets"
   ]
  },
  {
   "cell_type": "code",
   "execution_count": 4,
   "metadata": {},
   "outputs": [],
   "source": [
    "TRAIN_DIR = \"./data/train_set.csv\"\n",
    "TEST_DIR = \"./data/test_set.csv\"\n",
    "\n",
    "# Load the Training and Test Datasets\n",
    "train_df = pd.read_csv(TRAIN_DIR)\n",
    "test_df = pd.read_csv(TEST_DIR)"
   ]
  },
  {
   "cell_type": "markdown",
   "metadata": {},
   "source": [
    "## Data Exploration\n",
    "\n",
    "In this section, we delve into the dataset to understand its characteristics and nuances. This exploration will guide our preprocessing and model building strategies.\n"
   ]
  },
  {
   "cell_type": "markdown",
   "metadata": {},
   "source": [
    "## Basic Dataset Overview\n",
    "\n",
    "Start by examining the basic structure of the dataset:\n",
    "\n",
    "- Dimensions of the dataset (number of rows and columns).\n",
    "- Peek at the first few rows to understand what each column represents.\n",
    "- Check for missing values in the dataset."
   ]
  },
  {
   "cell_type": "code",
   "execution_count": 5,
   "metadata": {},
   "outputs": [
    {
     "name": "stdout",
     "output_type": "stream",
     "text": [
      "Training Dataset Dimensions: (323240, 2) (Rows, Columns)\n",
      "Test Dataset Dimensions: (80810, 2) (Rows, Columns)\n"
     ]
    }
   ],
   "source": [
    "# Get the dimensions of the training dataset\n",
    "train_shape = train_df.shape\n",
    "print(f\"Training Dataset Dimensions: {train_shape} (Rows, Columns)\")\n",
    "\n",
    "# Get the dimensions of the test dataset\n",
    "test_shape = test_df.shape\n",
    "print(f\"Test Dataset Dimensions: {test_shape} (Rows, Columns)\")"
   ]
  },
  {
   "cell_type": "markdown",
   "metadata": {},
   "source": [
    "> At first sight, we have enough data to train our models."
   ]
  },
  {
   "cell_type": "code",
   "execution_count": 6,
   "metadata": {},
   "outputs": [
    {
     "data": {
      "text/html": [
       "<div>\n",
       "<style scoped>\n",
       "    .dataframe tbody tr th:only-of-type {\n",
       "        vertical-align: middle;\n",
       "    }\n",
       "\n",
       "    .dataframe tbody tr th {\n",
       "        vertical-align: top;\n",
       "    }\n",
       "\n",
       "    .dataframe thead th {\n",
       "        text-align: right;\n",
       "    }\n",
       "</style>\n",
       "<table border=\"1\" class=\"dataframe\">\n",
       "  <thead>\n",
       "    <tr style=\"text-align: right;\">\n",
       "      <th></th>\n",
       "      <th>question_text</th>\n",
       "      <th>target</th>\n",
       "    </tr>\n",
       "  </thead>\n",
       "  <tbody>\n",
       "    <tr>\n",
       "      <th>0</th>\n",
       "      <td>How are the new internet privacy rules going to affect the Americans living in the USA?</td>\n",
       "      <td>0</td>\n",
       "    </tr>\n",
       "    <tr>\n",
       "      <th>1</th>\n",
       "      <td>What are the diagnostic features of suffering from groin and back pain simultaneously?</td>\n",
       "      <td>0</td>\n",
       "    </tr>\n",
       "    <tr>\n",
       "      <th>2</th>\n",
       "      <td>What is the soundtrack to your life?</td>\n",
       "      <td>0</td>\n",
       "    </tr>\n",
       "    <tr>\n",
       "      <th>3</th>\n",
       "      <td>What is the best phone under 6000 in India?</td>\n",
       "      <td>0</td>\n",
       "    </tr>\n",
       "    <tr>\n",
       "      <th>4</th>\n",
       "      <td>Why is 200 year old music box an early computer, complete with social media?</td>\n",
       "      <td>0</td>\n",
       "    </tr>\n",
       "    <tr>\n",
       "      <th>5</th>\n",
       "      <td>Why are you a rave candy girl? What does it mean to you?</td>\n",
       "      <td>0</td>\n",
       "    </tr>\n",
       "    <tr>\n",
       "      <th>6</th>\n",
       "      <td>How does LG Electronics Inc. determine the value of a LG BP530?</td>\n",
       "      <td>0</td>\n",
       "    </tr>\n",
       "    <tr>\n",
       "      <th>7</th>\n",
       "      <td>How important is the time factor when dealing with thoracic outlet syndrome?</td>\n",
       "      <td>0</td>\n",
       "    </tr>\n",
       "    <tr>\n",
       "      <th>8</th>\n",
       "      <td>What will be the time period if the radius of the earth become half?</td>\n",
       "      <td>0</td>\n",
       "    </tr>\n",
       "    <tr>\n",
       "      <th>9</th>\n",
       "      <td>What is a hate speech?</td>\n",
       "      <td>0</td>\n",
       "    </tr>\n",
       "  </tbody>\n",
       "</table>\n",
       "</div>"
      ],
      "text/plain": [
       "                                                                             question_text  \\\n",
       "0  How are the new internet privacy rules going to affect the Americans living in the USA?   \n",
       "1   What are the diagnostic features of suffering from groin and back pain simultaneously?   \n",
       "2                                                     What is the soundtrack to your life?   \n",
       "3                                              What is the best phone under 6000 in India?   \n",
       "4             Why is 200 year old music box an early computer, complete with social media?   \n",
       "5                                 Why are you a rave candy girl? What does it mean to you?   \n",
       "6                          How does LG Electronics Inc. determine the value of a LG BP530?   \n",
       "7             How important is the time factor when dealing with thoracic outlet syndrome?   \n",
       "8                     What will be the time period if the radius of the earth become half?   \n",
       "9                                                                   What is a hate speech?   \n",
       "\n",
       "   target  \n",
       "0       0  \n",
       "1       0  \n",
       "2       0  \n",
       "3       0  \n",
       "4       0  \n",
       "5       0  \n",
       "6       0  \n",
       "7       0  \n",
       "8       0  \n",
       "9       0  "
      ]
     },
     "execution_count": 6,
     "metadata": {},
     "output_type": "execute_result"
    }
   ],
   "source": [
    "# Set display options to show the full content of question columns\n",
    "pd.set_option(\"display.max_colwidth\", None)\n",
    "\n",
    "train_df.head(10)"
   ]
  },
  {
   "cell_type": "code",
   "execution_count": 7,
   "metadata": {},
   "outputs": [
    {
     "name": "stdout",
     "output_type": "stream",
     "text": [
      "Missing Values in Training Dataset:\n",
      "question_text    0\n",
      "target           0\n",
      "dtype: int64\n",
      "\n",
      "Missing Values in Test Dataset:\n",
      "question_text    0\n",
      "target           0\n",
      "dtype: int64\n"
     ]
    }
   ],
   "source": [
    "# Checking for missing values in the training dataset\n",
    "missing_values_train = train_df.isnull().sum()\n",
    "print(\"Missing Values in Training Dataset:\")\n",
    "print(missing_values_train)\n",
    "\n",
    "# Checking for missing values in the test dataset\n",
    "missing_values_test = test_df.isnull().sum()\n",
    "print(\"\\nMissing Values in Test Dataset:\")\n",
    "print(missing_values_test)"
   ]
  },
  {
   "cell_type": "markdown",
   "metadata": {},
   "source": [
    "> Good news! There are no missing values in the dataset."
   ]
  },
  {
   "cell_type": "markdown",
   "metadata": {},
   "source": [
    "### Class Distribution\n",
    "\n",
    "Since we are dealing with a classification problem, it's crucial to look at the distribution of classes:\n",
    "\n",
    "- Count the number of instances in each class.\n",
    "- Visualize the class distribution to identify any imbalance."
   ]
  },
  {
   "cell_type": "code",
   "execution_count": 8,
   "metadata": {},
   "outputs": [
    {
     "name": "stdout",
     "output_type": "stream",
     "text": [
      "Class Distribution in Training Dataset:\n",
      "target\n",
      "0    258592\n",
      "1     64648\n",
      "Name: count, dtype: int64\n"
     ]
    }
   ],
   "source": [
    "# Count the number of instances in each class for the training dataset\n",
    "class_distribution_train = train_df[\"target\"].value_counts()\n",
    "print(\"Class Distribution in Training Dataset:\")\n",
    "print(class_distribution_train)"
   ]
  },
  {
   "cell_type": "code",
   "execution_count": 9,
   "metadata": {},
   "outputs": [
    {
     "data": {
      "image/png": "[encoded data removed]",
      "text/plain": [
       "<Figure size 800x400 with 1 Axes>"
      ]
     },
     "metadata": {},
     "output_type": "display_data"
    }
   ],
   "source": [
    "# Visualizing the class distribution in the training dataset\n",
    "plt.figure(figsize=(8, 4))\n",
    "plt.bar(\n",
    "    class_distribution_train.index,\n",
    "    class_distribution_train.values,\n",
    "    color=[\"blue\", \"orange\"],\n",
    ")\n",
    "plt.xlabel(\"Classes\")\n",
    "plt.ylabel(\"Number of Instances\")\n",
    "plt.title(\"Class Distribution in Training Dataset\")\n",
    "# set the x-axis ticks to be the class labels\n",
    "plt.xticks([0, 1], [\"Sincere (0)\", \"Insincere (1)\"])  # 0 = sincere, 1 = insincere\n",
    "plt.show()"
   ]
  },
  {
   "cell_type": "markdown",
   "metadata": {},
   "source": [
    "The class distribution in the training dataset is visibly imbalanced, with a significantly higher number of sincere questions compared to insincere ones. This imbalance can lead to a biased model that tends toward predicting the majority class.\n",
    "\n",
    "### Addressing Class Imbalance (ideas)\n",
    "\n",
    "To address this imbalance and ensure our model learns to effectively distinguish between both classes, we can consider the following strategies:\n",
    "\n",
    "1. **Resampling the Dataset**: Either by oversampling the minority class (insincere questions) or undersampling the majority class (sincere questions) to achieve a more balanced distribution.\n",
    "\n",
    "2. **Weighted Loss Function**: During model training, we can use a weighted loss function to give more importance to the minority class.\n",
    "\n",
    "3. **Data Augmentation**: Generate new samples for the minority class by using techniques like synonym replacement, back translation, or paraphrasing.\n",
    "\n",
    "4. **Use of F1 Score for Model Evaluation**: Since it provides a balance between precision and recall, the F1 score is a more suitable metric than accuracy for imbalanced datasets."
   ]
  },
  {
   "cell_type": "markdown",
   "metadata": {},
   "source": [
    "### Text Data Analysis\n",
    "\n",
    "Text data requires special attention. Here we will:\n",
    "\n",
    "- Analyze the length of the questions (number of words/characters).\n",
    "- Explore the most frequent words and terms in the dataset.\n",
    "- Look at the distribution of question lengths.\n",
    "- Analyze correlations between words count and class.\n"
   ]
  },
  {
   "cell_type": "code",
   "execution_count": 10,
   "metadata": {},
   "outputs": [
    {
     "name": "stdout",
     "output_type": "stream",
     "text": [
      "Word Count Descriptive Statistics:\n",
      "count    323240.000000\n",
      "mean         13.443228\n",
      "std           7.628281\n",
      "min           1.000000\n",
      "25%           8.000000\n",
      "50%          11.000000\n",
      "75%          16.000000\n",
      "max          64.000000\n",
      "Name: word_count, dtype: float64\n",
      "\n",
      "Character Count Descriptive Statistics:\n",
      "count    323240.000000\n",
      "mean         74.605027\n",
      "std          42.679392\n",
      "min           1.000000\n",
      "25%          45.000000\n",
      "50%          62.000000\n",
      "75%          91.000000\n",
      "max        1017.000000\n",
      "Name: char_count, dtype: float64\n"
     ]
    }
   ],
   "source": [
    "# Calculate question length in terms of words\n",
    "train_df[\"word_count\"] = train_df[\"question_text\"].apply(lambda x: len(x.split()))\n",
    "\n",
    "# Calculate question length in terms of characters\n",
    "train_df[\"char_count\"] = train_df[\"question_text\"].apply(len)\n",
    "\n",
    "# Descriptive statistics for word count\n",
    "word_count_desc = train_df[\"word_count\"].describe()\n",
    "print(\"Word Count Descriptive Statistics:\")\n",
    "print(word_count_desc)\n",
    "\n",
    "# Descriptive statistics for character count\n",
    "char_count_desc = train_df[\"char_count\"].describe()\n",
    "print(\"\\nCharacter Count Descriptive Statistics:\")\n",
    "print(char_count_desc)"
   ]
  },
  {
   "cell_type": "markdown",
   "metadata": {},
   "source": [
    "> The average length of questions is 74 words, this gives us a rough idea of the maximum sequence length we can use for our models."
   ]
  },
  {
   "cell_type": "code",
   "execution_count": 11,
   "metadata": {},
   "outputs": [
    {
     "name": "stdout",
     "output_type": "stream",
     "text": [
      "\n",
      "Most Common Words:\n",
      "the: 168155\n",
      "to: 106024\n",
      "a: 100236\n",
      "What: 92077\n",
      "in: 88291\n",
      "of: 84355\n",
      "is: 80899\n",
      "I: 71128\n",
      "and: 69754\n",
      "How: 59514\n",
      "are: 55878\n",
      "do: 54067\n",
      "Why: 49284\n",
      "for: 48026\n",
      "you: 44299\n",
      "it: 31480\n",
      "that: 31247\n",
      "can: 28514\n",
      "Is: 27859\n",
      "with: 24902\n"
     ]
    }
   ],
   "source": [
    "# Tokenize the questions and count the frequency of words\n",
    "all_words = list(chain.from_iterable(train_df[\"question_text\"].str.split()))\n",
    "\n",
    "# Count the words using Counter\n",
    "word_freq = Counter(all_words)\n",
    "\n",
    "# Display the most common words\n",
    "most_common_words = word_freq.most_common(20)\n",
    "print(\"\\nMost Common Words:\")\n",
    "for word, freq in most_common_words:\n",
    "    print(f\"{word}: {freq}\")"
   ]
  },
  {
   "cell_type": "markdown",
   "metadata": {},
   "source": [
    "> As we can see the most common words are stop words, which are not very useful for our task. We will remove them during the preprocessing step. "
   ]
  },
  {
   "cell_type": "code",
   "execution_count": 12,
   "metadata": {},
   "outputs": [
    {
     "data": {
      "image/png": "[encoded data removed]",
      "text/plain": [
       "<Figure size 1000x500 with 1 Axes>"
      ]
     },
     "metadata": {},
     "output_type": "display_data"
    },
    {
     "data": {
      "image/png": "[encoded data removed]",
      "text/plain": [
       "<Figure size 1000x500 with 1 Axes>"
      ]
     },
     "metadata": {},
     "output_type": "display_data"
    }
   ],
   "source": [
    "# Plotting the distribution of question lengths by word count\n",
    "plt.figure(figsize=(10, 5))\n",
    "plt.hist(train_df[\"word_count\"], bins=50, color=\"skyblue\")\n",
    "plt.title(\"Distribution of Question Length by Word Count\")\n",
    "plt.xlabel(\"Word Count\")\n",
    "plt.ylabel(\"Frequency\")\n",
    "plt.show()\n",
    "\n",
    "# Plotting the distribution of question lengths by character count\n",
    "plt.figure(figsize=(10, 5))\n",
    "plt.hist(train_df[\"char_count\"], bins=50, color=\"lightgreen\")\n",
    "plt.title(\"Distribution of Question Length by Character Count\")\n",
    "plt.xlabel(\"Character Count\")\n",
    "plt.ylabel(\"Frequency\")\n",
    "plt.show()"
   ]
  },
  {
   "cell_type": "code",
   "execution_count": 13,
   "metadata": {},
   "outputs": [
    {
     "name": "stdout",
     "output_type": "stream",
     "text": [
      "Correlation between word count and target:\n",
      "            word_count    target\n",
      "word_count    1.000000  0.250098\n",
      "target        0.250098  1.000000\n"
     ]
    }
   ],
   "source": [
    "correlation = train_df[[\"word_count\", \"target\"]].corr()\n",
    "\n",
    "# Display the correlation matrix\n",
    "print(\"Correlation between word count and target:\")\n",
    "print(correlation)"
   ]
  },
  {
   "cell_type": "code",
   "execution_count": 14,
   "metadata": {},
   "outputs": [
    {
     "data": {
      "image/png": "[encoded data removed]",
      "text/plain": [
       "<Figure size 1200x600 with 1 Axes>"
      ]
     },
     "metadata": {},
     "output_type": "display_data"
    }
   ],
   "source": [
    "# Filter the DataFrame for sincere and insincere questions\n",
    "sincere_questions = train_df[train_df[\"target\"] == 0][\"word_count\"]\n",
    "insincere_questions = train_df[train_df[\"target\"] == 1][\"word_count\"]\n",
    "\n",
    "# Plotting the distribution of word counts by class\n",
    "plt.figure(figsize=(12, 6))\n",
    "\n",
    "# Plot sincere questions distribution\n",
    "plt.hist(sincere_questions, bins=50, alpha=0.5, label=\"Sincere (0)\", color=\"blue\")\n",
    "\n",
    "# Plot insincere questions distribution\n",
    "plt.hist(insincere_questions, bins=50, alpha=0.5, label=\"Insincere (1)\", color=\"orange\")\n",
    "\n",
    "plt.title(\"Word Count Distribution by Target\")\n",
    "plt.xlabel(\"Word Count\")\n",
    "plt.ylabel(\"Frequency\")\n",
    "plt.legend(loc=\"upper right\")\n",
    "\n",
    "plt.show()"
   ]
  },
  {
   "cell_type": "code",
   "execution_count": 15,
   "metadata": {},
   "outputs": [
    {
     "name": "stdout",
     "output_type": "stream",
     "text": [
      "Descriptive Statistics of Word Count by Target Class:\n",
      "           count       mean       std  min   25%   50%   75%   max\n",
      "target                                                            \n",
      "0       258592.0  12.489319  6.730526  2.0   8.0  11.0  15.0  59.0\n",
      "1        64648.0  17.258863  9.568479  1.0  10.0  15.0  23.0  64.0\n"
     ]
    }
   ],
   "source": [
    "# Descriptive statistics of word count for each target class\n",
    "word_count_by_target = train_df.groupby(\"target\")[\"word_count\"].describe()\n",
    "\n",
    "print(\"Descriptive Statistics of Word Count by Target Class:\")\n",
    "print(word_count_by_target)"
   ]
  },
  {
   "cell_type": "markdown",
   "metadata": {},
   "source": [
    "The histogram of word counts separated by target classes indicates a notable difference in the distribution of word lengths between sincere and insincere questions. Specifically, insincere questions tend to have a slightly higher word count on average, as evidenced by the rightward shift in their distribution compared to sincere questions.\n",
    "\n",
    "The correlation coefficient between word count and the target is ~`0.25`, suggesting a mild positive relationship. In the context of our dataset, this means that as the number of words in a question increases, the likelihood of the question being insincere (target=1) also increases, albeit not strongly.\n",
    "\n",
    "> While word count alone is not a definitive predictor, it provides a supplementary cue that, when combined with other textual features, could enhance the model's performance."
   ]
  },
  {
   "cell_type": "markdown",
   "metadata": {},
   "source": [
    "## Preprocessing Requirements\n",
    "\n",
    "The preprocessing of text data is a critical step in ensuring that our deep learning model receives high-quality input data that reflects the true nature of the language patterns we wish to learn. Based on our preliminary data exploration, we've identified several preprocessing steps that will help improve the performance of our model.\n",
    "\n",
    "Based on our findings, we will determine:\n",
    "\n",
    "- The need for text normalization steps such as lowercasing, removing special characters, etc.\n",
    "- Whether stopwords need to be removed or kept.\n",
    "- The necessity of stemming or lemmatization."
   ]
  },
  {
   "cell_type": "markdown",
   "metadata": {},
   "source": [
    "### Text Normalization\n",
    "\n",
    "Text normalization is the process of converting text into a more uniform format that allows models to learn more effectively. Based on our dataset, the following normalization steps are recommended:\n",
    "\n",
    "- **Lowercasing**: Convert all text to lowercase to ensure that the model treats words like \"The\" and \"the\" as the same word, reducing the vocabulary size and improving the model's ability to learn patterns.\n",
    "- **Removing Special Characters**: Non-alphanumeric characters and punctuation can often be noise in text data. However, in certain NLP tasks, punctuation can convey meaningful signals (e.g., question marks indicating questions). We'll need to carefully evaluate which characters to remove.\n",
    "- **Handling Contractions**: In English, contractions such as \"don't\" or \"can't\" are common. We should decide whether to expand these to their full forms (\"do not\", \"cannot\") to make them more explicit for the model.\n"
   ]
  },
  {
   "cell_type": "code",
   "execution_count": 16,
   "metadata": {},
   "outputs": [],
   "source": [
    "def normalize_text(text):\n",
    "    # Convert text to lowercase\n",
    "    text = text.lower()\n",
    "\n",
    "    # Remove special characters (anything that is not a letter or number)\n",
    "    text = re.sub(r\"[^a-zA-Z0-9\\s]\", \"\", text)\n",
    "\n",
    "    # Replace multiple whitespaces with a single space\n",
    "    text = re.sub(r\"\\s+\", \" \", text).strip()\n",
    "\n",
    "    return text\n",
    "\n",
    "\n",
    "# Apply the normalization function to each question in the dataset\n",
    "train_df[\"normalized_text\"] = train_df[\"question_text\"].apply(normalize_text)\n",
    "test_df[\"normalized_text\"] = test_df[\"question_text\"].apply(normalize_text)"
   ]
  },
  {
   "cell_type": "markdown",
   "metadata": {},
   "source": [
    "### Stopwords\n",
    "\n",
    "Stopwords are commonly used words that carry little semantic meaning and are often removed from the text. However, the removal of stopwords can sometimes eliminate important context in certain types of analysis. In our case we decided to remove them, since they are not very useful for our task.\n"
   ]
  },
  {
   "cell_type": "code",
   "execution_count": 17,
   "metadata": {},
   "outputs": [],
   "source": [
    "# Load the set of English stopwords\n",
    "stop_words = set(stopwords.words(\"english\"))\n",
    "\n",
    "\n",
    "def remove_stopwords(text):\n",
    "    # Tokenize the text into words\n",
    "    words = word_tokenize(text)\n",
    "    # Remove the stopwords\n",
    "    filtered_words = [word for word in words if word not in stop_words]\n",
    "    # Rejoin the filtered words back into a string\n",
    "    filtered_text = \" \".join(filtered_words)\n",
    "    return filtered_text\n",
    "\n",
    "\n",
    "# Apply the remove_stopwords function to each question in the normalized text column\n",
    "train_df[\"text_without_stopwords\"] = train_df[\"normalized_text\"].apply(remove_stopwords)\n",
    "test_df[\"text_without_stopwords\"] = test_df[\"normalized_text\"].apply(remove_stopwords)"
   ]
  },
  {
   "cell_type": "markdown",
   "metadata": {},
   "source": [
    "### Stemming and Lemmatization\n",
    "\n",
    "Both stemming and lemmatization are techniques used to reduce words to their root form. Lemmatization considers the context and converts the word to its meaningful base form, whereas stemming simply removes the ends of words.\n",
    "\n",
    "- **Stemming**: This might be too aggressive for our task, as it can sometimes produce stems that are not actual words. It could potentially obscure the meaning of verbs when tense or aspect is important.\n",
    "- **Lemmatization**: This is a more sophisticated approach that might be more appropriate for our task. It reduces words to their lemma, or dictionary form, and preserves semantic meaning.\n"
   ]
  },
  {
   "cell_type": "code",
   "execution_count": 18,
   "metadata": {},
   "outputs": [],
   "source": [
    "from nltk.stem import WordNetLemmatizer\n",
    "from nltk.corpus import wordnet\n",
    "from nltk.tokenize import word_tokenize\n",
    "\n",
    "# Initialize the WordNet lemmatizer\n",
    "lemmatizer = WordNetLemmatizer()\n",
    "\n",
    "\n",
    "def get_wordnet_pos(word):\n",
    "    \"\"\"Map POS tag to first character lemmatize() accepts\"\"\"\n",
    "    tag = nltk.pos_tag([word])[0][1][0].upper()\n",
    "    tag_dict = {\n",
    "        \"J\": wordnet.ADJ,\n",
    "        \"N\": wordnet.NOUN,\n",
    "        \"V\": wordnet.VERB,\n",
    "        \"R\": wordnet.ADV,\n",
    "    }\n",
    "\n",
    "    return tag_dict.get(tag, wordnet.NOUN)\n",
    "\n",
    "\n",
    "def lemmatize_text(text):\n",
    "    # Tokenize the text into words\n",
    "    words = word_tokenize(text)\n",
    "    # Lemmatize each word with its correct part-of-speech tag\n",
    "    lemmatized_words = [lemmatizer.lemmatize(w, get_wordnet_pos(w)) for w in words]\n",
    "    # Rejoin the lemmatized words back into a single string\n",
    "    lemmatized_text = \" \".join(lemmatized_words)\n",
    "    return lemmatized_text\n",
    "\n",
    "\n",
    "# Apply the lemmatize_text function to each question in the text without stopwords column\n",
    "train_df[\"lemmatized_text\"] = train_df[\"text_without_stopwords\"].apply(lemmatize_text)\n",
    "test_df[\"lemmatized_text\"] = test_df[\"text_without_stopwords\"].apply(lemmatize_text)"
   ]
  },
  {
   "cell_type": "code",
   "execution_count": 19,
   "metadata": {},
   "outputs": [
    {
     "name": "stdout",
     "output_type": "stream",
     "text": [
      "Original Question:\n",
      "How can I change from Android to iOS without rebooting my phone?\n",
      "\n",
      "Normalized Text:\n",
      "how can i change from android to ios without rebooting my phone\n",
      "\n",
      "Without Stopwords:\n",
      "change android ios without rebooting phone\n",
      "\n",
      "Lemmatized Text:\n",
      "change android io without reboot phone\n",
      "\n",
      "--------------------------------------------------------------------------------\n",
      "\n",
      "Original Question:\n",
      "What do people think of India?\n",
      "\n",
      "Normalized Text:\n",
      "what do people think of india\n",
      "\n",
      "Without Stopwords:\n",
      "people think india\n",
      "\n",
      "Lemmatized Text:\n",
      "people think india\n",
      "\n",
      "--------------------------------------------------------------------------------\n",
      "\n"
     ]
    }
   ],
   "source": [
    "# Select two examples from the dataset\n",
    "example_questions = train_df.sample(2, random_state=SEED)\n",
    "\n",
    "# Display the text evolution for each example\n",
    "for _, row in example_questions.iterrows():\n",
    "    print(\"Original Question:\")\n",
    "    print(row[\"question_text\"])\n",
    "    print(\"\\nNormalized Text:\")\n",
    "    print(row[\"normalized_text\"])\n",
    "    print(\"\\nWithout Stopwords:\")\n",
    "    print(row[\"text_without_stopwords\"])\n",
    "    print(\"\\nLemmatized Text:\")\n",
    "    print(row[\"lemmatized_text\"])\n",
    "    print(\"\\n\" + \"-\" * 80 + \"\\n\")"
   ]
  },
  {
   "cell_type": "markdown",
   "metadata": {},
   "source": [
    "![kevin](assets/kevin.gif)"
   ]
  },
  {
   "cell_type": "markdown",
   "metadata": {},
   "source": [
    "## Vocabulary Creation + Word Embeddings\n",
    "\n",
    "We are going to create a vocabulary dump for the problem, so that we can represent each word with a unique integer. This will allow us to represent a review as a list of ints (which the model will then map to word embeddings).\n",
    "\n",
    "One thing to keep in mind is that we will want to add padding to our inputs (so that all the reviews have the same length), for this we will use 0, so the words in our vocabulary must start at 1."
   ]
  },
  {
   "cell_type": "code",
   "execution_count": 20,
   "metadata": {},
   "outputs": [],
   "source": [
    "import operator\n",
    "\n",
    "\n",
    "# OOV = Out of Vocabulary\n",
    "def make_vocab(all_texts, max_vocab_size, oov_token=\"<OOV>\"):\n",
    "    # Count the number of occurrences of each word\n",
    "    counts = Counter(chain(*all_texts.str.split()))\n",
    "    # Create vocab containing max_vocab_size tokens\n",
    "    # Add the out of vocabulary at the end\n",
    "    sorted_counts = sorted(counts.items(), key=operator.itemgetter(1), reverse=True)[\n",
    "        :max_vocab_size\n",
    "    ]\n",
    "    vocab = [token for token, count in sorted_counts] + [oov_token]\n",
    "    # Map from word to int index in vocab\n",
    "    vocab_to_int = {word: (ii + 1) for ii, word in enumerate(vocab)}\n",
    "    return vocab_to_int"
   ]
  },
  {
   "cell_type": "code",
   "execution_count": 21,
   "metadata": {},
   "outputs": [],
   "source": [
    "vocab_mapping = make_vocab(train_df[\"lemmatized_text\"], max_vocab_size=100_000)"
   ]
  },
  {
   "cell_type": "markdown",
   "metadata": {},
   "source": [
    "Now let's implement a function that transforms a string with the review into a list of integers with the position of each of our words in the vocabulary. If a word is not in the vocabulary we use the index for`<OOV>`."
   ]
  },
  {
   "cell_type": "code",
   "execution_count": 22,
   "metadata": {},
   "outputs": [],
   "source": [
    "def get_question_features(text, word_to_idx):\n",
    "    # Convert text to indices\n",
    "    indices = [word_to_idx.get(word, word_to_idx[\"<OOV>\"]) for word in text.split()]\n",
    "    return indices"
   ]
  },
  {
   "cell_type": "markdown",
   "metadata": {},
   "source": [
    "The next thing is to implement padding of the sentences, although the models are able to work with sequences of any length we want the training and inference time to be controlled and not depend on the length of the inputs. As a small optimization we are going to do **left padding**, that is, add 0s to the left of a sequence until we reach `max_sequence_length` elements.\n",
    "\n",
    "Adding leading zeros helps the models to learn from the data since the valuable information appears at the end of the sequence and it does not have to remember 3 words after having seen 100 zeros."
   ]
  },
  {
   "cell_type": "code",
   "execution_count": 23,
   "metadata": {},
   "outputs": [],
   "source": [
    "def pad_features(review_ints, sequence_length):\n",
    "    if len(review_ints) > sequence_length:\n",
    "        return review_ints[:sequence_length]\n",
    "    else:\n",
    "        return [0] * (sequence_length - len(review_ints)) + review_ints"
   ]
  },
  {
   "cell_type": "code",
   "execution_count": 24,
   "metadata": {},
   "outputs": [],
   "source": [
    "def get_question_representation(review_text, word_to_idx, max_sequence_length):\n",
    "    return pad_features(\n",
    "        get_question_features(review_text, word_to_idx), max_sequence_length\n",
    "    )"
   ]
  },
  {
   "cell_type": "markdown",
   "metadata": {},
   "source": [
    "### Text Vectorization\n",
    "\n",
    "Now that we have our vocabulary, we can vectorize our text data. We will use the `get_question_representation` function to vectorize the text into integer token IDs. We will also use the `pad_sequences` function to ensure that all our sequences are padded to the same length."
   ]
  },
  {
   "cell_type": "code",
   "execution_count": 25,
   "metadata": {},
   "outputs": [],
   "source": [
    "MAX_SEQUENCE_LENGTH = 150\n",
    "\n",
    "train_vectors = train_df[\"lemmatized_text\"].apply(\n",
    "    lambda x: get_question_representation(x, vocab_mapping, MAX_SEQUENCE_LENGTH)\n",
    ")\n",
    "test_vectors = test_df[\"lemmatized_text\"].apply(\n",
    "    lambda x: get_question_representation(x, vocab_mapping, MAX_SEQUENCE_LENGTH)\n",
    ")\n",
    "\n",
    "train_vectors = np.array([vec for vec in train_vectors])\n",
    "test_vectors = np.array([vec for vec in test_vectors])"
   ]
  },
  {
   "cell_type": "markdown",
   "metadata": {},
   "source": [
    "Before proceeding, we will split our dataset into training and validation sets. We will use 80% of the data for training and 20% for validation."
   ]
  },
  {
   "cell_type": "code",
   "execution_count": 26,
   "metadata": {},
   "outputs": [],
   "source": [
    "# split train and validation sets\n",
    "train_vectors, val_vectors, train_labels, val_labels = train_test_split(\n",
    "    train_vectors, train_df[\"target\"], test_size=0.2, random_state=SEED\n",
    ")"
   ]
  },
  {
   "cell_type": "markdown",
   "metadata": {},
   "source": [
    "## Training"
   ]
  },
  {
   "cell_type": "markdown",
   "metadata": {},
   "source": [
    "### Auxiliary Functions"
   ]
  },
  {
   "cell_type": "code",
   "execution_count": 27,
   "metadata": {},
   "outputs": [],
   "source": [
    "import copy\n",
    "\n",
    "def train_epoch(training_model, loader, criterion, optim):\n",
    "    training_model.train()\n",
    "    epoch_loss = 0.0\n",
    "    all_labels = []\n",
    "    all_predictions = []\n",
    "\n",
    "    for data, labels in loader:\n",
    "        all_labels.extend(labels.numpy())\n",
    "\n",
    "        optim.zero_grad()\n",
    "\n",
    "        predictions = training_model(data.to(DEVICE))\n",
    "        all_predictions.extend(torch.argmax(predictions, dim=1).cpu().numpy())\n",
    "\n",
    "        loss = criterion(predictions, labels.to(DEVICE))\n",
    "\n",
    "        loss.backward()\n",
    "        optim.step()\n",
    "\n",
    "        epoch_loss += loss.item()\n",
    "\n",
    "    f1 = f1_score(all_labels, all_predictions, average=\"binary\")\n",
    "    return epoch_loss / len(loader), f1 * 100\n",
    "\n",
    "\n",
    "def validation_epoch(val_model, loader, criterion):\n",
    "    val_model.eval()\n",
    "    epoch_loss = 0.0\n",
    "    all_labels = []\n",
    "    all_predictions = []\n",
    "\n",
    "    with torch.no_grad():\n",
    "        for data, labels in loader:\n",
    "            all_labels.extend(labels.numpy())\n",
    "\n",
    "            predictions = val_model(data.to(DEVICE))\n",
    "            all_predictions.extend(torch.argmax(predictions, dim=1).cpu().numpy())\n",
    "\n",
    "            loss = criterion(predictions, labels.to(DEVICE))\n",
    "\n",
    "            epoch_loss += loss.item()\n",
    "\n",
    "    f1 = f1_score(all_labels, all_predictions, average=\"binary\")\n",
    "    return epoch_loss / len(loader), f1 * 100\n",
    "\n",
    "\n",
    "def train_model(\n",
    "    model, train_loader, test_loader, criterion, optim, number_epochs, patience=5\n",
    "):\n",
    "    train_history = []\n",
    "    test_history = []\n",
    "\n",
    "    # Variables for Early Stopping\n",
    "    best_loss = float(\"inf\")\n",
    "    epochs_no_improve = 0\n",
    "    best_model = copy.deepcopy(model)\n",
    "\n",
    "    for epoch in range(number_epochs):\n",
    "        start_time = time.time()\n",
    "\n",
    "        train_loss, train_f1 = train_epoch(model, train_loader, criterion, optim)\n",
    "        train_history.append(train_loss)\n",
    "        print(\n",
    "            \"Training epoch {} | Loss {:.6f} | F1 Score {:.2f}% | Time {:.2f} seconds\".format(\n",
    "                epoch + 1, train_loss, train_f1, time.time() - start_time\n",
    "            )\n",
    "        )\n",
    "\n",
    "        start_time = time.time()\n",
    "        test_loss, test_f1 = validation_epoch(model, test_loader, criterion)\n",
    "        test_history.append(test_loss)\n",
    "        print(\n",
    "            \"Validation epoch {} | Loss {:.6f} | F1 Score {:.2f}% | Time {:.2f} seconds\".format(\n",
    "                epoch + 1, test_loss, test_f1, time.time() - start_time\n",
    "            )\n",
    "        )\n",
    "\n",
    "        # Early Stopping Check\n",
    "        if test_loss < best_loss:\n",
    "            best_loss = test_loss\n",
    "            epochs_no_improve = 0\n",
    "            best_model = copy.deepcopy(model)\n",
    "        else:\n",
    "            epochs_no_improve += 1\n",
    "\n",
    "        if epochs_no_improve == patience:\n",
    "            print(\"Early stopping triggered. Training stopped.\")\n",
    "            break\n",
    "\n",
    "    return train_history, test_history, best_model"
   ]
  },
  {
   "cell_type": "markdown",
   "metadata": {},
   "source": [
    "### Model Definition\n",
    "\n",
    "### Model Architecture\n",
    "\n",
    "The `SincereRNN` model is structured as follows:\n",
    "\n",
    "1. **Embedding Layer**: \n",
    "   - The first layer of the model is an embedding layer. \n",
    "   - It transforms the input vocabulary indices into dense vectors of a specified size (`embedding_dim`).\n",
    "   - The `vocab_size` parameter defines the size of the input vocabulary.\n",
    "\n",
    "2. **Recurrent Neural Network (RNN)**: \n",
    "   - The embedding output is then passed through a simple RNN layer. \n",
    "   - This RNN has `hidden_dim` units and is designed to process the data sequentially, capturing the temporal dependencies.\n",
    "   - The `batch_first=True` parameter indicates that the input tensors are expected to have a batch size as the first dimension.\n",
    "\n",
    "3. **Fully Connected and Dropout Layers**:\n",
    "   - After the RNN layer, the output passes through a series of fully connected (linear) layers.\n",
    "   - The first linear layer transforms the RNN output to a size of 512 units.\n",
    "   - This is followed by a ReLU activation function and a dropout layer with a dropout rate of 0.5 for regularization.\n",
    "   - A second fully connected layer reduces the dimension to 256 units, followed again by ReLU and dropout for added non-linearity and regularization.\n",
    "   - The final fully connected layer (`fc3`) maps the output to 2 units, suitable for binary classification tasks."
   ]
  },
  {
   "cell_type": "code",
   "execution_count": 28,
   "metadata": {},
   "outputs": [],
   "source": [
    "class SincereRNN(nn.Module):\n",
    "    def __init__(self, vocab_size, embedding_dim, hidden_dim):\n",
    "        super(SincereRNN, self).__init__()\n",
    "        self.embedding = nn.Embedding(vocab_size, embedding_dim)\n",
    "        self.rnn = nn.RNN(embedding_dim, hidden_dim, num_layers=1, batch_first=True)\n",
    "        self.fc = nn.Linear(hidden_dim, 512)\n",
    "        self.dropout = nn.Dropout(0.5)\n",
    "        self.fc2 = nn.Linear(512, 256)\n",
    "        self.dropout2 = nn.Dropout(0.5)\n",
    "        self.fc3 = nn.Linear(256, 2)\n",
    "\n",
    "    def forward(self, x):\n",
    "        # 1. Embedding\n",
    "        x = self.embedding(x)\n",
    "\n",
    "        # 2. RNN\n",
    "        x, _ = self.rnn(x)\n",
    "\n",
    "        # 3. Linear\n",
    "        x = self.fc(x[:, -1, :])\n",
    "        x = F.relu(x)\n",
    "        x = self.dropout(x)\n",
    "\n",
    "        x = self.fc2(x)\n",
    "        x = F.relu(x)\n",
    "        x = self.dropout2(x)\n",
    "\n",
    "        x = self.fc3(x)\n",
    "\n",
    "        return x"
   ]
  },
  {
   "cell_type": "markdown",
   "metadata": {},
   "source": [
    "### Training Loop"
   ]
  },
  {
   "cell_type": "code",
   "execution_count": 29,
   "metadata": {},
   "outputs": [],
   "source": [
    "# we are going to use weighted loss function since the dataset is imbalanced\n",
    "\n",
    "class_counts = train_df[\"target\"].value_counts().to_list()\n",
    "total_count = sum(class_counts)\n",
    "class_weights = [total_count / class_counts[0], total_count / class_counts[1]]\n",
    "\n",
    "# Convert class weights to a tensor\n",
    "weights_tensor = torch.tensor(class_weights, dtype=torch.float32).to(DEVICE)\n",
    "\n",
    "# Define the weighted loss function\n",
    "loss_function = nn.CrossEntropyLoss(weight=weights_tensor).to(DEVICE)"
   ]
  },
  {
   "cell_type": "code",
   "execution_count": 30,
   "metadata": {},
   "outputs": [],
   "source": [
    "# creating dataloaders\n",
    "\n",
    "BATCH_SIZE = 32\n",
    "\n",
    "train_targets = torch.Tensor(train_labels.to_numpy()).long()\n",
    "train_dataset = TensorDataset(torch.LongTensor(train_vectors), train_targets)\n",
    "train_dataloader = DataLoader(\n",
    "    train_dataset, batch_size=BATCH_SIZE, pin_memory=True, num_workers=8\n",
    ")\n",
    "\n",
    "val_targets = torch.Tensor(val_labels.to_numpy()).long()\n",
    "val_dataset = TensorDataset(torch.LongTensor(val_vectors), val_targets)\n",
    "val_dataloader = DataLoader(\n",
    "    val_dataset, batch_size=BATCH_SIZE, pin_memory=True, num_workers=8\n",
    ")\n",
    "\n",
    "test_targets = torch.Tensor(test_df[\"target\"].to_numpy()).long()\n",
    "test_dataset = TensorDataset(torch.LongTensor(test_vectors), test_targets)\n",
    "test_dataloader = DataLoader(\n",
    "    test_dataset, batch_size=BATCH_SIZE, pin_memory=True, num_workers=8\n",
    ")"
   ]
  },
  {
   "cell_type": "code",
   "execution_count": 31,
   "metadata": {},
   "outputs": [
    {
     "name": "stdout",
     "output_type": "stream",
     "text": [
      "Training epoch 1 | Loss 0.481536 | F1 Score 57.49% | Time 34.94 seconds\n",
      "Validation epoch 1 | Loss 0.371556 | F1 Score 69.43% | Time 1.21 seconds\n",
      "Training epoch 2 | Loss 0.343612 | F1 Score 71.43% | Time 34.91 seconds\n",
      "Validation epoch 2 | Loss 0.337840 | F1 Score 72.51% | Time 1.17 seconds\n",
      "Training epoch 3 | Loss 0.303361 | F1 Score 74.29% | Time 34.23 seconds\n",
      "Validation epoch 3 | Loss 0.328940 | F1 Score 73.78% | Time 1.16 seconds\n",
      "Training epoch 4 | Loss 0.277676 | F1 Score 75.95% | Time 34.55 seconds\n",
      "Validation epoch 4 | Loss 0.330739 | F1 Score 74.50% | Time 1.11 seconds\n",
      "Training epoch 5 | Loss 0.257275 | F1 Score 77.41% | Time 34.42 seconds\n",
      "Validation epoch 5 | Loss 0.344418 | F1 Score 74.90% | Time 1.10 seconds\n",
      "Training epoch 6 | Loss 0.240584 | F1 Score 78.70% | Time 34.68 seconds\n",
      "Validation epoch 6 | Loss 0.351683 | F1 Score 74.91% | Time 1.14 seconds\n",
      "Training epoch 7 | Loss 0.225870 | F1 Score 79.77% | Time 34.50 seconds\n",
      "Validation epoch 7 | Loss 0.364839 | F1 Score 75.13% | Time 1.16 seconds\n",
      "Training epoch 8 | Loss 0.211588 | F1 Score 80.77% | Time 34.40 seconds\n",
      "Validation epoch 8 | Loss 0.386035 | F1 Score 74.54% | Time 1.10 seconds\n",
      "Early stopping triggered. Training stopped.\n"
     ]
    }
   ],
   "source": [
    "# training the model\n",
    "EMBEDDING_DIM = math.ceil(len(vocab_mapping) ** 0.5)\n",
    "HIDDEN_DIM = 64\n",
    "LR = 0.0001\n",
    "EPOCHS = 50\n",
    "\n",
    "model = SincereRNN(len(vocab_mapping) + 1, EMBEDDING_DIM, HIDDEN_DIM).to(DEVICE)\n",
    "optimizer = torch.optim.Adam(model.parameters(), lr=LR)\n",
    "train_history, test_history, best_model = train_model(\n",
    "    model, train_dataloader, val_dataloader, loss_function, optimizer, EPOCHS\n",
    ")"
   ]
  },
  {
   "cell_type": "markdown",
   "metadata": {},
   "source": [
    "### Plotting the Training Curves"
   ]
  },
  {
   "cell_type": "code",
   "execution_count": 32,
   "metadata": {},
   "outputs": [
    {
     "data": {
      "image/png": "[encoded data removed]",
      "text/plain": [
       "<Figure size 1000x600 with 1 Axes>"
      ]
     },
     "metadata": {},
     "output_type": "display_data"
    }
   ],
   "source": [
    "def plot_history(\n",
    "    train_history,\n",
    "    test_history,\n",
    "    title=\"Model Loss\",\n",
    "    train_label=\"Train Loss\",\n",
    "    test_label=\"Test Loss\",\n",
    "):\n",
    "    plt.figure(figsize=(10, 6))\n",
    "    plt.plot(train_history, label=train_label)\n",
    "    plt.plot(test_history, label=test_label)\n",
    "    plt.title(title)\n",
    "    plt.ylabel(\"Loss\")\n",
    "    plt.xlabel(\"Epoch\")\n",
    "    plt.legend()\n",
    "    plt.grid(True)\n",
    "    plt.show()\n",
    "\n",
    "\n",
    "plot_history(train_history, test_history)"
   ]
  },
  {
   "cell_type": "markdown",
   "metadata": {},
   "source": [
    "Training Loss: The training loss is consistently decreasing, which typically suggests that the model is learning and improving its performance on the training dataset over epochs.\n",
    "\n",
    "Test Loss: The test loss decreases initially but starts to increase after epoch 3. This could be an indication that the model is beginning to overfit the training data."
   ]
  },
  {
   "cell_type": "markdown",
   "metadata": {},
   "source": [
    "## Evaluation\n",
    "\n",
    "Now that we have trained our model, we can evaluate its performance on the test dataset. We will use the `evaluate_model` function to compute the loss and metrics on the test dataset (this data was not used during training or validation)."
   ]
  },
  {
   "cell_type": "code",
   "execution_count": 33,
   "metadata": {},
   "outputs": [
    {
     "name": "stderr",
     "output_type": "stream",
     "text": [
      "/home/k/anaconda3/envs/question-classifier-nlp/lib/python3.11/site-packages/torch/nn/modules/rnn.py:555: UserWarning: RNN module weights are not part of single contiguous chunk of memory. This means they need to be compacted at every call, possibly greatly increasing memory usage. To compact weights again call flatten_parameters(). (Triggered internally at /opt/conda/conda-bld/pytorch_1695454903670/work/aten/src/ATen/native/cudnn/RNN.cpp:982.)\n",
      "  result = _VF.rnn_tanh(input, hx, self._flat_weights, self.bias, self.num_layers,\n"
     ]
    },
    {
     "name": "stdout",
     "output_type": "stream",
     "text": [
      "Test Loss: 0.3321, F1 Score: 0.73, Precision: 0.64, Recall: 0.86\n",
      "Confusion Matrix:\n",
      " [[56853  7795]\n",
      " [ 2248 13914]]\n"
     ]
    }
   ],
   "source": [
    "def evaluate_model(model, test_dataloader, criterion):\n",
    "    model.eval()  # Set the model to evaluation mode\n",
    "\n",
    "    test_loss = 0.0\n",
    "    all_targets = []\n",
    "    all_predictions = []\n",
    "\n",
    "    with torch.no_grad():  # Disable gradient calculation\n",
    "        for inputs, targets in test_dataloader:\n",
    "            inputs = inputs.to(DEVICE)\n",
    "            targets = targets.to(DEVICE)\n",
    "            outputs = model(inputs)\n",
    "            loss = criterion(outputs, targets)\n",
    "            test_loss += loss.item()\n",
    "\n",
    "            _, predicted = torch.max(outputs, 1)\n",
    "            all_predictions.extend(predicted.cpu().numpy())\n",
    "            all_targets.extend(targets.cpu().numpy())\n",
    "\n",
    "    avg_test_loss = test_loss / len(test_dataloader)\n",
    "    all_targets = np.array(all_targets)\n",
    "    all_predictions = np.array(all_predictions)\n",
    "\n",
    "    # Compute additional metrics\n",
    "    f1 = f1_score(all_targets, all_predictions, average=\"binary\")\n",
    "    precision = precision_score(all_targets, all_predictions)\n",
    "    recall = recall_score(all_targets, all_predictions)\n",
    "    conf_matrix = confusion_matrix(all_targets, all_predictions)\n",
    "\n",
    "    return avg_test_loss, f1, precision, recall, conf_matrix\n",
    "\n",
    "\n",
    "test_loss, f1, precision, recall, conf_matrix = evaluate_model(\n",
    "    best_model, test_dataloader, loss_function\n",
    ")\n",
    "print(\n",
    "    f\"Test Loss: {test_loss:.4f}, F1 Score: {f1:.2f}, Precision: {precision:.2f}, Recall: {recall:.2f}\"\n",
    ")\n",
    "print(\"Confusion Matrix:\\n\", conf_matrix)"
   ]
  },
  {
   "cell_type": "markdown",
   "metadata": {},
   "source": [
    "We have similar results to the validation set, which is good news. We can see that the model is not overfitting the training data."
   ]
  }
 ],
 "metadata": {
  "kernelspec": {
   "display_name": "Python 3",
   "language": "python",
   "name": "python3"
  },
  "language_info": {
   "codemirror_mode": {
    "name": "ipython",
    "version": 3
   },
   "file_extension": ".py",
   "mimetype": "text/x-python",
   "name": "python",
   "nbconvert_exporter": "python",
   "pygments_lexer": "ipython3",
   "version": "3.11.5"
  }
 },
 "nbformat": 4,
 "nbformat_minor": 2
}
